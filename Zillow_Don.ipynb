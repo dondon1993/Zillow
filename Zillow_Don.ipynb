{
 "cells": [
  {
   "cell_type": "code",
   "execution_count": 1,
   "metadata": {},
   "outputs": [],
   "source": [
    "%load_ext autoreload\n",
    "%autoreload 2\n",
    "\n",
    "%matplotlib inline"
   ]
  },
  {
   "cell_type": "code",
   "execution_count": 2,
   "metadata": {},
   "outputs": [],
   "source": [
    "import numpy as np\n",
    "import pandas as pd\n",
    "\n",
    "import pickle\n",
    "\n",
    "import matplotlib.pyplot as plt\n",
    "import matplotlib.cm as cm\n",
    "import seaborn as sns\n",
    "sns.set()\n",
    "\n",
    "import os"
   ]
  },
  {
   "cell_type": "code",
   "execution_count": 3,
   "metadata": {},
   "outputs": [],
   "source": [
    "from sklearn.model_selection import GroupKFold\n",
    "from sklearn.preprocessing import LabelEncoder\n",
    "from sklearn.ensemble import RandomForestRegressor\n",
    "from scipy.optimize import leastsq\n",
    "import math"
   ]
  },
  {
   "cell_type": "code",
   "execution_count": 4,
   "metadata": {},
   "outputs": [],
   "source": [
    "import matplotlib.pyplot as plt\n",
    "%matplotlib inline\n",
    "from tqdm import tqdm_notebook\n",
    "from sklearn.preprocessing import StandardScaler, LabelEncoder\n",
    "from sklearn.svm import NuSVR, SVR\n",
    "from sklearn.metrics import mean_absolute_error\n",
    "from sklearn import metrics\n",
    "from sklearn import model_selection\n",
    "pd.options.display.precision = 15\n",
    "\n",
    "import lightgbm as lgb\n",
    "import xgboost as xgb\n",
    "import time\n",
    "import datetime\n",
    "from catboost import CatBoostRegressor\n",
    "from sklearn.preprocessing import LabelEncoder\n",
    "from sklearn.model_selection import StratifiedKFold, KFold, RepeatedKFold, GroupKFold, TimeSeriesSplit\n",
    "from sklearn.metrics import precision_score, recall_score, f1_score\n",
    "from sklearn.metrics import mean_squared_error\n",
    "from sklearn.linear_model import LinearRegression\n",
    "import gc\n",
    "import seaborn as sns\n",
    "import warnings\n",
    "import scipy.signal as sg\n",
    "warnings.filterwarnings(\"ignore\")\n",
    "\n",
    "from scipy import stats"
   ]
  },
  {
   "cell_type": "code",
   "execution_count": 5,
   "metadata": {},
   "outputs": [],
   "source": [
    "from tensorflow.python.keras.layers import Dense\n",
    "from tensorflow.keras.layers import Input\n",
    "from tensorflow.python.keras.layers import Dropout, Lambda\n",
    "from tensorflow.python.keras.layers import ReLU, LeakyReLU, BatchNormalization, Conv1D, Flatten\n",
    "from tensorflow.python.keras.layers import Add, Bidirectional, LSTM, AveragePooling2D, MaxPooling2D, MaxPooling1D\n",
    "from tensorflow.python.keras.layers import Embedding, concatenate, Reshape\n",
    "from tensorflow.keras.optimizers import SGD, RMSprop, Adam\n",
    "from tensorflow.python.keras import backend as K\n",
    "from tensorflow.python.keras.preprocessing.sequence import pad_sequences\n",
    "import tensorflow as tf\n",
    "import tensorflow.python.keras"
   ]
  },
  {
   "cell_type": "code",
   "execution_count": 6,
   "metadata": {},
   "outputs": [],
   "source": [
    "from tensorflow.python.keras.models import Model, Sequential\n",
    "from tensorflow.python.keras.callbacks import ModelCheckpoint, EarlyStopping, Callback\n",
    "import tensorflow_hub as hub"
   ]
  },
  {
   "cell_type": "code",
   "execution_count": 7,
   "metadata": {},
   "outputs": [],
   "source": [
    "def reduce_mem_usage(df, verbose=True):\n",
    "    numerics = ['int16', 'int32', 'int64', 'float16', 'float32', 'float64']\n",
    "    start_mem = df.memory_usage().sum() / 1024**2\n",
    "    for col in df.columns:\n",
    "        col_type = df[col].dtypes\n",
    "        \n",
    "        if col_type in numerics:\n",
    "            c_min = df[col].min()\n",
    "            c_max = df[col].max()\n",
    "            if str(col_type)[:3] == 'int':\n",
    "                if c_min > np.iinfo(np.int8).min and c_max < np.iinfo(np.int8).max:\n",
    "                    df[col] = df[col].astype(np.int8)\n",
    "                elif c_min > np.iinfo(np.int16).min and c_max < np.iinfo(np.int16).max:\n",
    "                    df[col] = df[col].astype(np.int16)\n",
    "                elif c_min > np.iinfo(np.int32).min and c_max < np.iinfo(np.int32).max:\n",
    "                    df[col] = df[col].astype(np.int32)\n",
    "                elif c_min > np.iinfo(np.int64).min and c_max < np.iinfo(np.int64).max:\n",
    "                    df[col] = df[col].astype(np.int64)\n",
    "            else:\n",
    "                c_prec = df[col].apply(lambda x: np.finfo(x).precision).max()\n",
    "                if c_min > np.finfo(np.float16).min and c_max < np.finfo(np.float16).max: #and c_prec == np.finfo(np.float16).precision:\n",
    "                    df[col] = df[col].astype(np.float16)\n",
    "                elif c_min > np.finfo(np.float32).min and c_max < np.finfo(np.float32).max: #and c_prec == np.finfo(np.float32).precision:\n",
    "                    df[col] = df[col].astype(np.float32)\n",
    "                else:\n",
    "                    df[col] = df[col].astype(np.float64)\n",
    "    end_mem = df.memory_usage().sum() / 1024**2\n",
    "    if verbose: print('Mem. usage decreased to {:5.2f} Mb ({:.1f}% reduction)'.format(end_mem, 100 * (start_mem - end_mem) / start_mem))\n",
    "    return df"
   ]
  },
  {
   "cell_type": "code",
   "execution_count": 8,
   "metadata": {},
   "outputs": [],
   "source": [
    "def reduce_mem_usage_col(df, col, verbose=True):\n",
    "    numerics = ['int16', 'int32', 'int64', 'float16', 'float32', 'float64']\n",
    "    start_mem = df.memory_usage().sum() / 1024**2\n",
    "    #for col in df.columns:\n",
    "    col_type = df[col].dtypes\n",
    "\n",
    "    if col_type in numerics:\n",
    "        c_min = df[col].min()\n",
    "        c_max = df[col].max()\n",
    "        if str(col_type)[:3] == 'int':\n",
    "            if c_min > np.iinfo(np.int8).min and c_max < np.iinfo(np.int8).max:\n",
    "                df[col] = df[col].astype(np.int8)\n",
    "            elif c_min > np.iinfo(np.int16).min and c_max < np.iinfo(np.int16).max:\n",
    "                df[col] = df[col].astype(np.int16)\n",
    "            elif c_min > np.iinfo(np.int32).min and c_max < np.iinfo(np.int32).max:\n",
    "                df[col] = df[col].astype(np.int32)\n",
    "            elif c_min > np.iinfo(np.int64).min and c_max < np.iinfo(np.int64).max:\n",
    "                df[col] = df[col].astype(np.int64)\n",
    "        else:\n",
    "            c_prec = df[col].apply(lambda x: np.finfo(x).precision).max()\n",
    "            if c_min > np.finfo(np.float16).min and c_max < np.finfo(np.float16).max: #and c_prec == np.finfo(np.float16).precision:\n",
    "                df[col] = df[col].astype(np.float16)\n",
    "            elif c_min > np.finfo(np.float32).min and c_max < np.finfo(np.float32).max: #and c_prec == np.finfo(np.float32).precision:\n",
    "                df[col] = df[col].astype(np.float32)\n",
    "            else:\n",
    "                df[col] = df[col].astype(np.float64)\n",
    "    end_mem = df.memory_usage().sum() / 1024**2\n",
    "    if verbose: print('Mem. usage decreased to {:5.2f} Mb ({:.1f}% reduction)'.format(end_mem, 100 * (start_mem - end_mem) / start_mem))\n",
    "    return df"
   ]
  },
  {
   "cell_type": "code",
   "execution_count": 9,
   "metadata": {},
   "outputs": [],
   "source": [
    "from math import sqrt\n",
    "def root_mean_squared_error(y_true, y_pred):\n",
    "    rmse = sqrt(mean_squared_error(y_true, y_pred))\n",
    "    return rmse"
   ]
  },
  {
   "cell_type": "code",
   "execution_count": 10,
   "metadata": {},
   "outputs": [],
   "source": [
    "def train_model_regression_Zillow(X, y, params, groups, folds, model_type='lgb', eval_metric='mae', columns=None, plot_feature_importance=False, model=None,\n",
    "                               verbose=10000, early_stopping_rounds=200, n_estimators=50000):\n",
    "    \"\"\"\n",
    "    A function to train a variety of regression models.\n",
    "    Returns dictionary with oof predictions, test predictions, scores and, if necessary, feature importances.\n",
    "    \n",
    "    :params: X - training data, can be pd.DataFrame\n",
    "    :params: X_test - test data, can be pd.DataFrame\n",
    "    :params: y - target\n",
    "    :params: folds - folds to split data\n",
    "    :params: model_type - type of model to use\n",
    "    :params: eval_metric - metric to use\n",
    "    :params: columns - columns to use. If None - use all columns\n",
    "    :params: plot_feature_importance - whether to plot feature importance of LGB\n",
    "    :params: model - sklearn model, works only for \"sklearn\" model type\n",
    "    \n",
    "    \"\"\"\n",
    "    columns = X.columns if columns is None else columns\n",
    "    #X_test = X_test[columns]\n",
    "    models = []\n",
    "    \n",
    "    # to set up scoring parameters\n",
    "    metrics_dict = {'mae': {'lgb_metric_name': 'mae',\n",
    "                        'catboost_metric_name': 'MAE',\n",
    "                        'sklearn_scoring_function': metrics.mean_absolute_error},\n",
    "                    #'group_mae': {'lgb_metric_name': 'mae',\n",
    "                    #    'catboost_metric_name': 'MAE',\n",
    "                    #    'scoring_function': group_mean_log_mae},\n",
    "                    'mse': {'lgb_metric_name': 'mse',\n",
    "                        'catboost_metric_name': 'MSE',\n",
    "                        'sklearn_scoring_function': metrics.mean_squared_error},\n",
    "                    'rmse': {'lgb_metric_name': 'rmse',\n",
    "                        'catboost_metric_name': 'RMSE',\n",
    "                        'sklearn_scoring_function': root_mean_squared_error}\n",
    "                    }\n",
    "\n",
    "    \n",
    "    result_dict = {}\n",
    "    \n",
    "    # out-of-fold predictions on train data\n",
    "    oof = np.zeros(len(X))\n",
    "    \n",
    "    # averaged predictions on train data\n",
    "    # prediction = np.zeros((6,len(X_test)))\n",
    "    \n",
    "    # list of scores on folds\n",
    "    scores = []\n",
    "    train_loss = []\n",
    "    feature_importance = pd.DataFrame()\n",
    "    \n",
    "    # split and train on folds\n",
    "    if groups is None:\n",
    "        splits = folds.split(X)\n",
    "        print('yes')\n",
    "    else:\n",
    "        splits = folds.split(X, groups = groups)\n",
    "        print('no')\n",
    "        \n",
    "    for fold_n, (train_index, valid_index) in enumerate(splits):\n",
    "        print(f'Fold {fold_n + 1} started at {time.ctime()}')\n",
    "        if type(X) == np.ndarray:\n",
    "            X_train, X_valid = X[columns][train_index], X[columns][valid_index]\n",
    "            y_train, y_valid = y[train_index], y[valid_index]\n",
    "        else:\n",
    "            X_train, X_valid = X[columns].iloc[train_index], X[columns].iloc[valid_index]\n",
    "            y_train, y_valid = y.iloc[train_index], y.iloc[valid_index]\n",
    "            \n",
    "        if model_type == 'lgb':\n",
    "            model = lgb.LGBMRegressor(**params, n_estimators = n_estimators, n_jobs = -1)\n",
    "            model.fit(X_train, y_train, \n",
    "                    eval_set=[(X_train, y_train), (X_valid, y_valid)], eval_metric=metrics_dict[eval_metric]['lgb_metric_name'],\n",
    "                    verbose=verbose, early_stopping_rounds=early_stopping_rounds)\n",
    "            \n",
    "            y_pred_valid = model.predict(X_valid)\n",
    "            y_pred_train = model.predict(X_train)\n",
    "            models.append(model)\n",
    "            \n",
    "        if model_type == 'xgb':\n",
    "            train_data = xgb.DMatrix(data=X_train, label=y_train, feature_names=X.columns)\n",
    "            valid_data = xgb.DMatrix(data=X_valid, label=y_valid, feature_names=X.columns)\n",
    "\n",
    "            watchlist = [(train_data, 'train'), (valid_data, 'valid_data')]\n",
    "            model = xgb.train(dtrain=train_data, num_boost_round=20000, evals=watchlist, early_stopping_rounds=200, verbose_eval=verbose, params=params)\n",
    "            y_pred_valid = model.predict(xgb.DMatrix(X_valid, feature_names=X.columns), ntree_limit=model.best_ntree_limit)\n",
    "            y_pred_train = model.predict(xgb.DMatrix(X_train, feature_names=X.columns), ntree_limit=model.best_ntree_limit)\n",
    "            #y_pred = model.predict(xgb.DMatrix(X_test, feature_names=X.columns), ntree_limit=model.best_ntree_limit)\n",
    "            models.append(model)\n",
    "        \n",
    "        if model_type == 'sklearn':\n",
    "            model = model\n",
    "            model.fit(X_train, y_train)\n",
    "            \n",
    "            y_pred_valid = model.predict(X_valid).reshape(-1,)\n",
    "            score = metrics_dict[eval_metric]['sklearn_scoring_function'](y_valid, y_pred_valid)\n",
    "            print(f'Fold {fold_n}. {eval_metric}: {score:.4f}.')\n",
    "            print('')\n",
    "            \n",
    "            #y_pred = model.predict(X_test).reshape(-1,)\n",
    "        \n",
    "        if model_type == 'cat':\n",
    "            model = CatBoostRegressor(iterations=20000,  eval_metric=metrics_dict[eval_metric]['catboost_metric_name'], **params,\n",
    "                                      loss_function=metrics_dict[eval_metric]['catboost_metric_name'])\n",
    "            model.fit(X_train, y_train, eval_set=(X_valid, y_valid), cat_features=[], use_best_model=True, verbose=False)\n",
    "\n",
    "            y_pred_valid = model.predict(X_valid)\n",
    "            y_pred_train = model.predict(X_train)\n",
    "            #y_pred = model.predict(X_test)\n",
    "        \n",
    "        oof[valid_index] = y_pred_valid.reshape(-1,)\n",
    "        if eval_metric != 'group_mae':\n",
    "            scores.append(metrics_dict[eval_metric]['sklearn_scoring_function'](y_valid, y_pred_valid))\n",
    "            train_loss.append(metrics_dict[eval_metric]['sklearn_scoring_function'](y_train, y_pred_train))\n",
    "        else:\n",
    "            scores.append(metrics_dict[eval_metric]['scoring_function'](y_valid, y_pred_valid, X_valid['type']))\n",
    "\n",
    "        #prediction += y_pred    \n",
    "        \n",
    "        if model_type == 'lgb' and plot_feature_importance:\n",
    "            # feature importance\n",
    "            fold_importance = pd.DataFrame()\n",
    "            fold_importance[\"feature\"] = columns\n",
    "            fold_importance[\"importance\"] = model.feature_importances_\n",
    "            fold_importance[\"fold\"] = fold_n + 1\n",
    "            feature_importance = pd.concat([feature_importance, fold_importance], axis=0)\n",
    "\n",
    "    #prediction /= folds.n_splits\n",
    "    \n",
    "    print('Train loss mean: {0:.6f}, std: {1:.6f}.'.format(np.mean(train_loss), np.std(train_loss)))\n",
    "    print('CV mean score: {0:.6f}, std: {1:.6f}.'.format(np.mean(scores), np.std(scores)))\n",
    "    \n",
    "    result_dict['oof'] = oof\n",
    "    #result_dict['prediction'] = prediction\n",
    "    result_dict['scores'] = scores\n",
    "    result_dict['models'] = models\n",
    "    \n",
    "    if model_type == 'lgb':\n",
    "        if plot_feature_importance:\n",
    "            feature_importance[\"importance\"] /= folds.n_splits\n",
    "            cols = feature_importance[[\"feature\", \"importance\"]].groupby(\"feature\").mean().sort_values(\n",
    "                by=\"importance\", ascending=False)[:50].index\n",
    "\n",
    "            best_features = feature_importance.loc[feature_importance.feature.isin(cols)]\n",
    "\n",
    "            plt.figure(figsize=(16, 12));\n",
    "            sns.barplot(x=\"importance\", y=\"feature\", data=best_features.sort_values(by=\"importance\", ascending=False));\n",
    "            plt.title('LGB Features (avg over folds)');\n",
    "            \n",
    "            result_dict['feature_importance'] = feature_importance\n",
    "        \n",
    "    return result_dict"
   ]
  },
  {
   "cell_type": "code",
   "execution_count": 11,
   "metadata": {},
   "outputs": [],
   "source": [
    "def train_model_classification_Zillow(X, y, params, groups, folds, model_type='lgb', eval_metric='mae', columns=None, plot_feature_importance=False, model=None,\n",
    "                               verbose=10000, early_stopping_rounds=200, n_estimators=50000):\n",
    "    \"\"\"\n",
    "    A function to train a variety of regression models.\n",
    "    Returns dictionary with oof predictions, test predictions, scores and, if necessary, feature importances.\n",
    "    \n",
    "    :params: X - training data, can be pd.DataFrame\n",
    "    :params: X_test - test data, can be pd.DataFrame\n",
    "    :params: y - target\n",
    "    :params: folds - folds to split data\n",
    "    :params: model_type - type of model to use\n",
    "    :params: eval_metric - metric to use\n",
    "    :params: columns - columns to use. If None - use all columns\n",
    "    :params: plot_feature_importance - whether to plot feature importance of LGB\n",
    "    :params: model - sklearn model, works only for \"sklearn\" model type\n",
    "    \n",
    "    \"\"\"\n",
    "    columns = X.columns if columns is None else columns\n",
    "    #X_test = X_test[columns]\n",
    "    models = []\n",
    "    \n",
    "    # to set up scoring parameters\n",
    "    metrics_dict = {'auc': {'lgb_metric_name': 'auc',\n",
    "                        'catboost_metric_name': 'AUC',\n",
    "                        'sklearn_scoring_function': metrics.roc_auc_score},\n",
    "                    }\n",
    "\n",
    "    \n",
    "    result_dict = {}\n",
    "    \n",
    "    # out-of-fold predictions on train data\n",
    "    oof = np.zeros(len(X))\n",
    "    \n",
    "    # averaged predictions on train data\n",
    "    # prediction = np.zeros((6,len(X_test)))\n",
    "    \n",
    "    # list of scores on folds\n",
    "    scores = []\n",
    "    train_loss = []\n",
    "    feature_importance = pd.DataFrame()\n",
    "    \n",
    "    # split and train on folds\n",
    "    if groups is None:\n",
    "        splits = folds.split(X)\n",
    "        print('yes')\n",
    "    else:\n",
    "        splits = folds.split(X, groups = groups)\n",
    "        print('no')\n",
    "        \n",
    "    for fold_n, (train_index, valid_index) in enumerate(splits):\n",
    "        print(f'Fold {fold_n + 1} started at {time.ctime()}')\n",
    "        if type(X) == np.ndarray:\n",
    "            X_train, X_valid = X[columns][train_index], X[columns][valid_index]\n",
    "            y_train, y_valid = y[train_index], y[valid_index]\n",
    "        else:\n",
    "            X_train, X_valid = X[columns].iloc[train_index], X[columns].iloc[valid_index]\n",
    "            y_train, y_valid = y.iloc[train_index], y.iloc[valid_index]\n",
    "            \n",
    "        if model_type == 'lgb':\n",
    "            model = lgb.LGBMClassifier(**params, n_estimators = n_estimators, n_jobs = -1)\n",
    "            model.fit(X_train, y_train, \n",
    "                    eval_set=[(X_train, y_train), (X_valid, y_valid)], eval_metric=metrics_dict[eval_metric]['lgb_metric_name'],\n",
    "                    verbose=verbose, early_stopping_rounds=early_stopping_rounds)\n",
    "            \n",
    "            y_pred_valid = model.predict_proba(X_valid)[:, 1]\n",
    "            y_pred_train = model.predict_proba(X_train)[:, 1]\n",
    "            models.append(model)\n",
    "            \n",
    "        if model_type == 'xgb':\n",
    "            train_data = xgb.DMatrix(data=X_train, label=y_train, feature_names=X.columns)\n",
    "            valid_data = xgb.DMatrix(data=X_valid, label=y_valid, feature_names=X.columns)\n",
    "\n",
    "            watchlist = [(train_data, 'train'), (valid_data, 'valid_data')]\n",
    "            model = xgb.train(dtrain=train_data, num_boost_round=20000, evals=watchlist, early_stopping_rounds=200, verbose_eval=verbose, params=params)\n",
    "            y_pred_valid = model.predict(xgb.DMatrix(X_valid, feature_names=X.columns), ntree_limit=model.best_ntree_limit)\n",
    "            y_pred_train = model.predict(xgb.DMatrix(X_train, feature_names=X.columns), ntree_limit=model.best_ntree_limit)\n",
    "            #y_pred = model.predict(xgb.DMatrix(X_test, feature_names=X.columns), ntree_limit=model.best_ntree_limit)\n",
    "            models.append(model)\n",
    "        \n",
    "        if model_type == 'sklearn':\n",
    "            model = model\n",
    "            model.fit(X_train, y_train)\n",
    "            \n",
    "            y_pred_valid = model.predict(X_valid).reshape(-1,)\n",
    "            score = metrics_dict[eval_metric]['sklearn_scoring_function'](y_valid, y_pred_valid)\n",
    "            print(f'Fold {fold_n}. {eval_metric}: {score:.4f}.')\n",
    "            print('')\n",
    "            \n",
    "            #y_pred = model.predict(X_test).reshape(-1,)\n",
    "        \n",
    "        if model_type == 'cat':\n",
    "            model = CatBoostRegressor(iterations=20000,  eval_metric=metrics_dict[eval_metric]['catboost_metric_name'], **params,\n",
    "                                      loss_function=metrics_dict[eval_metric]['catboost_metric_name'])\n",
    "            model.fit(X_train, y_train, eval_set=(X_valid, y_valid), cat_features=[], use_best_model=True, verbose=False)\n",
    "\n",
    "            y_pred_valid = model.predict(X_valid)\n",
    "            y_pred_train = model.predict(X_train)\n",
    "            #y_pred = model.predict(X_test)\n",
    "        \n",
    "        oof[valid_index] = y_pred_valid.reshape(-1,)\n",
    "        if eval_metric != 'group_mae':\n",
    "            scores.append(metrics_dict[eval_metric]['sklearn_scoring_function'](y_valid, y_pred_valid))\n",
    "            train_loss.append(metrics_dict[eval_metric]['sklearn_scoring_function'](y_train, y_pred_train))\n",
    "        else:\n",
    "            scores.append(metrics_dict[eval_metric]['scoring_function'](y_valid, y_pred_valid, X_valid['type']))\n",
    "\n",
    "        #prediction += y_pred    \n",
    "        \n",
    "        if model_type == 'lgb' and plot_feature_importance:\n",
    "            # feature importance\n",
    "            fold_importance = pd.DataFrame()\n",
    "            fold_importance[\"feature\"] = columns\n",
    "            fold_importance[\"importance\"] = model.feature_importances_\n",
    "            fold_importance[\"fold\"] = fold_n + 1\n",
    "            feature_importance = pd.concat([feature_importance, fold_importance], axis=0)\n",
    "\n",
    "    #prediction /= folds.n_splits\n",
    "    \n",
    "    print('Train loss mean: {0:.6f}, std: {1:.6f}.'.format(np.mean(train_loss), np.std(train_loss)))\n",
    "    print('CV mean score: {0:.6f}, std: {1:.6f}.'.format(np.mean(scores), np.std(scores)))\n",
    "    \n",
    "    result_dict['oof'] = oof\n",
    "    #result_dict['prediction'] = prediction\n",
    "    result_dict['scores'] = scores\n",
    "    result_dict['models'] = models\n",
    "    \n",
    "    if model_type == 'lgb':\n",
    "        if plot_feature_importance:\n",
    "            feature_importance[\"importance\"] /= folds.n_splits\n",
    "            cols = feature_importance[[\"feature\", \"importance\"]].groupby(\"feature\").mean().sort_values(\n",
    "                by=\"importance\", ascending=False)[:50].index\n",
    "\n",
    "            best_features = feature_importance.loc[feature_importance.feature.isin(cols)]\n",
    "\n",
    "            plt.figure(figsize=(16, 12));\n",
    "            sns.barplot(x=\"importance\", y=\"feature\", data=best_features.sort_values(by=\"importance\", ascending=False));\n",
    "            plt.title('LGB Features (avg over folds)');\n",
    "            \n",
    "            result_dict['feature_importance'] = feature_importance\n",
    "        \n",
    "    return result_dict"
   ]
  },
  {
   "cell_type": "code",
   "execution_count": 12,
   "metadata": {},
   "outputs": [],
   "source": [
    "def test_predict(df, models, features, year):\n",
    "    # features: end with year, month, month_block\n",
    "    months = [10, 11, 12]\n",
    "    for month in months:\n",
    "        df['year'] = year\n",
    "        df['year'] = df['year'].astype('int16')\n",
    "        df['month'] = month\n",
    "        df['month'] = df['month'].astype('int8')\n",
    "        df['month_block'] = month + (year-2016)*12\n",
    "        df['month_block'] = df['month_block'].astype('int8')\n",
    "        \n",
    "        n_models = len(models)\n",
    "        y_pred =  np.zeros(len(df))\n",
    "        \n",
    "        features_old = {feature.replace(f'_{month}',''):feature for feature in df.columns if (f'_{month}' in feature) }\n",
    "        features_new = {value:key for key, value in features_old.items()}\n",
    "        df.rename(columns=features_new, inplace = True)\n",
    "    \n",
    "        for model in models:\n",
    "            y_pred += model.predict(df[features])\n",
    "            gc.collect()\n",
    "            \n",
    "        y_pred /= n_models\n",
    "        df.rename(columns=features_old, inplace = True)\n",
    "\n",
    "        test_2017[str(year) + str(month)] = y_pred"
   ]
  },
  {
   "cell_type": "code",
   "execution_count": 13,
   "metadata": {},
   "outputs": [],
   "source": [
    "def test_prob_predict(df, models, features, year):\n",
    "    # features: end with year, month, month_block\n",
    "    months = [10, 11, 12]\n",
    "    for month in months:\n",
    "        df['year'] = year\n",
    "        df['year'] = df['year'].astype('int16')\n",
    "        df['month'] = month\n",
    "        df['month'] = df['month'].astype('int8')\n",
    "        df['month_block'] = month + (year-2016)*12\n",
    "        df['month_block'] = df['month_block'].astype('int8')\n",
    "        gc.collect()\n",
    "        n_models = len(models)\n",
    "        y_pred =  np.zeros(len(df))\n",
    "        features_use = [feature if '_lag_' not in feature else f'{feature}_{month}' for feature in features]\n",
    "        for model in models:\n",
    "            y_pred += model.predict_proba(df[features_use])[:, 1]\n",
    "        y_pred /= n_models\n",
    "\n",
    "        test_2017[str(year) + str(month)+'_prob'] = y_pred"
   ]
  },
  {
   "cell_type": "markdown",
   "metadata": {},
   "source": [
    "# Data Preparation"
   ]
  },
  {
   "cell_type": "code",
   "execution_count": 32,
   "metadata": {},
   "outputs": [],
   "source": [
    "properties_2016 = pd.read_csv('./input/properties_2016.csv')\n",
    "properties_2017 = pd.read_csv('./input/properties_2017.csv')\n",
    "train_2016 = pd.read_csv('./input/train_2016_v2.csv')\n",
    "train_2017 = pd.read_csv('./input/train_2017.csv')\n",
    "test_2016 = pd.read_csv('./input/sample_submission.csv')\n",
    "test_2017 = test_2016.copy()"
   ]
  },
  {
   "cell_type": "markdown",
   "metadata": {},
   "source": [
    "Create a uniform properties dataframe"
   ]
  },
  {
   "cell_type": "code",
   "execution_count": 15,
   "metadata": {},
   "outputs": [],
   "source": [
    "properties_2016 = properties_2016.sort_values(by=['parcelid'])\n",
    "properties_2017 = properties_2017.sort_values(by=['parcelid'])"
   ]
  },
  {
   "cell_type": "code",
   "execution_count": 16,
   "metadata": {},
   "outputs": [],
   "source": [
    "all_features = properties_2016.columns.values\n",
    "properties_2017.columns = [str(feature)+'_2017' for feature in properties_2016.columns]\n",
    "properties_2017.rename({'parcelid_2017':'parcelid'},axis = 1,inplace=True)\n",
    "properties_2016 = pd.merge(properties_2016, properties_2017, how='left', on='parcelid')"
   ]
  },
  {
   "cell_type": "code",
   "execution_count": 17,
   "metadata": {},
   "outputs": [],
   "source": [
    "features_exclude = ['parcelid','unitcnt_2017','structuretaxvaluedollarcnt_2017','taxvaluedollarcnt_2017','landtaxvaluedollarcnt_2017']\n",
    "cat_features = [feature for feature in properties_2017.columns if ('id' in feature)|('cnt' in feature)|('nbr' in feature)]\n",
    "cat_features = [feature.replace('_2017','') for feature in cat_features if feature not in features_exclude]"
   ]
  },
  {
   "cell_type": "code",
   "execution_count": 18,
   "metadata": {},
   "outputs": [],
   "source": [
    "for feature in cat_features:\n",
    "    if feature == 'parcelid':\n",
    "        continue\n",
    "    properties_2016.loc[(properties_2016[feature].isnull())&(properties_2016[f'{feature}_2017'].notnull()),feature]=\\\n",
    "    properties_2016.loc[(properties_2016[feature].isnull())&(properties_2016[f'{feature}_2017'].notnull()),f'{feature}_2017']\n",
    "    \n",
    "    properties_2016.loc[(properties_2016[feature].notnull())&(properties_2016[f'{feature}_2017'].isnull()),f'{feature}_2017']=\\\n",
    "    properties_2016.loc[(properties_2016[feature].notnull())&(properties_2016[f'{feature}_2017'].isnull()),feature]\n",
    "    \n",
    "    na_value = min(properties_2016[feature].min(),properties_2016[f'{feature}_2017'].min()) - 1\n",
    "    properties_2016.fillna({feature: na_value,\n",
    "                  f'{feature}_2017': na_value},\n",
    "                          inplace = True)"
   ]
  },
  {
   "cell_type": "markdown",
   "metadata": {},
   "source": [
    "Merge low cardinality data"
   ]
  },
  {
   "cell_type": "code",
   "execution_count": 19,
   "metadata": {},
   "outputs": [
    {
     "name": "stdout",
     "output_type": "stream",
     "text": [
      "regionidcity\n",
      "regionidzip\n",
      "regionidneighborhood\n",
      "propertycountylandusecode\n"
     ]
    }
   ],
   "source": [
    "features = ['regionidcity','regionidzip','regionidneighborhood','propertycountylandusecode']\n",
    "for feature in features:\n",
    "    print(feature)\n",
    "    \n",
    "    group = properties_2016.groupby(feature).agg({feature:'count'})\n",
    "    group.columns = ['count']\n",
    "    group.reset_index(inplace=True)\n",
    "\n",
    "    threshould = 100\n",
    "    lst = group.loc[group['count']<threshould,feature].unique()\n",
    "    if len(lst) == 0:\n",
    "        continue\n",
    "    value_replace = lst.min()\n",
    "    properties_2016.loc[properties_2016[feature].isin(lst),feature] = value_replace\n",
    "    properties_2016.loc[properties_2016[f'{feature}_2017'].isin(lst),f'{feature}_2017'] = value_replace\n",
    "    #train_2016.loc[train_2016[feature].isin(lst),feature] = value_replace\n",
    "    #train_2017.loc[train_2017[feature].isin(lst),feature] = value_replace"
   ]
  },
  {
   "cell_type": "markdown",
   "metadata": {},
   "source": [
    "Merge properties dataset with corresponding train dataset"
   ]
  },
  {
   "cell_type": "code",
   "execution_count": 20,
   "metadata": {},
   "outputs": [],
   "source": [
    "train_2016.rename(columns={'parcelid': 'ParcelId'}, inplace=True)\n",
    "train_2017.rename(columns={'parcelid': 'ParcelId'}, inplace=True)\n",
    "properties_2016.rename(columns={'parcelid': 'ParcelId'}, inplace=True)\n",
    "properties_2017.rename(columns={'parcelid': 'ParcelId'}, inplace=True)"
   ]
  },
  {
   "cell_type": "code",
   "execution_count": 21,
   "metadata": {},
   "outputs": [],
   "source": [
    "features_2016 = properties_2016.columns.values[:58]\n",
    "features_2017 = np.append(properties_2016.columns.values[58:],['ParcelId'])"
   ]
  },
  {
   "cell_type": "code",
   "execution_count": 22,
   "metadata": {},
   "outputs": [],
   "source": [
    "train_2016 = pd.merge(train_2016, properties_2016[features_2016], how = 'left', on=['ParcelId'])\n",
    "train_2017 = pd.merge(train_2017, properties_2016[features_2017], how = 'left', on=['ParcelId'])"
   ]
  },
  {
   "cell_type": "code",
   "execution_count": 23,
   "metadata": {},
   "outputs": [],
   "source": [
    "test_2016 = pd.merge(test_2016, properties_2016[features_2016], how='left', on=['ParcelId'])\n",
    "test_2017 = pd.merge(test_2017, properties_2016[features_2017], how='left', on=['ParcelId'])"
   ]
  },
  {
   "cell_type": "code",
   "execution_count": 24,
   "metadata": {},
   "outputs": [],
   "source": [
    "train_2016['date'] = pd.to_datetime(train_2016['transactiondate'])\n",
    "train_2016['year'] = train_2016['date'].apply(lambda x: x.year)\n",
    "train_2016['month'] = train_2016['date'].apply(lambda x: x.month)\n",
    "train_2016['day'] = train_2016['date'].apply(lambda x: x.day)\n",
    "train_2016['month_block'] = (train_2016['year'] - 2016)*12 + train_2016['month']\n",
    "\n",
    "train_2016.drop(['transactiondate', 'date', \n",
    "                 'day'],axis=1, inplace = True)"
   ]
  },
  {
   "cell_type": "code",
   "execution_count": 25,
   "metadata": {},
   "outputs": [],
   "source": [
    "train_2017['date'] = pd.to_datetime(train_2017['transactiondate'])\n",
    "train_2017['year'] = train_2017['date'].apply(lambda x: x.year)\n",
    "train_2017['month'] = train_2017['date'].apply(lambda x: x.month)\n",
    "train_2017['day'] = train_2017['date'].apply(lambda x: x.day)\n",
    "train_2017['month_block'] = (train_2017['year'] - 2016)*12 + train_2017['month']\n",
    "\n",
    "train_2017.drop(['transactiondate', 'date', \n",
    "                 'day'],axis=1, inplace = True)"
   ]
  },
  {
   "cell_type": "code",
   "execution_count": 26,
   "metadata": {},
   "outputs": [],
   "source": [
    "train_2017.columns = [feature.replace('_2017','') if '_2017' in feature else feature for feature in train_2017.columns]\n",
    "test_2017.columns = [feature.replace('_2017','') if '_2017' in feature else feature for feature in test_2017.columns]"
   ]
  },
  {
   "cell_type": "code",
   "execution_count": 27,
   "metadata": {},
   "outputs": [],
   "source": [
    "columns = ['regionidcounty','regionidcity','regionidneighborhood','regionidzip']\n",
    "for column in columns:\n",
    "    \n",
    "    train_2016[column] = train_2016[column].astype('int32')\n",
    "    train_2017[column] = train_2017[column].astype('int32')\n",
    "    test_2016[column] = test_2016[column].astype('int32')\n",
    "    test_2017[column] = test_2017[column].astype('int32')"
   ]
  },
  {
   "cell_type": "code",
   "execution_count": 28,
   "metadata": {},
   "outputs": [],
   "source": [
    "features = ['bathroomcnt','calculatedbathnbr']\n",
    "\n",
    "for feature in features:\n",
    "    train_2016[feature] = train_2016[feature]*10\n",
    "    train_2017[feature] = train_2017[feature]*10\n",
    "    test_2016[feature] = test_2016[feature]*10\n",
    "    test_2017[feature] = test_2017[feature]*10"
   ]
  },
  {
   "cell_type": "code",
   "execution_count": 29,
   "metadata": {},
   "outputs": [
    {
     "name": "stdout",
     "output_type": "stream",
     "text": [
      "hashottuborspa\n",
      "propertycountylandusecode\n",
      "propertyzoningdesc\n",
      "fireplaceflag\n",
      "taxdelinquencyflag\n"
     ]
    }
   ],
   "source": [
    "for column in test_2016.columns:\n",
    "    if test_2016[column].dtypes == 'object':\n",
    "        print(column)\n",
    "        test_2016[column] = test_2016[column].astype(str)\n",
    "        test_2017[column] = test_2017[column].astype(str)\n",
    "        train_2016[column] = train_2016[column].astype(str)\n",
    "        train_2017[column] = train_2017[column].astype(str)\n",
    "        \n",
    "        lb = LabelEncoder()\n",
    "        \n",
    "        lb = lb.fit(list(set(test_2017[column].unique()).union(set(test_2016[column]))))\n",
    "        test_2017[column] = lb.transform(test_2017[column])\n",
    "        test_2016[column] = lb.transform(test_2016[column])\n",
    "        train_2016[column] = lb.transform(train_2016[column])\n",
    "        train_2017[column] = lb.transform(train_2017[column])"
   ]
  },
  {
   "cell_type": "code",
   "execution_count": 30,
   "metadata": {},
   "outputs": [],
   "source": [
    "# Take log of some highly skewed features. This can also possibly helps save space\n",
    "\n",
    "columns = ['calculatedfinishedsquarefeet', 'finishedsquarefeet50', 'structuretaxvaluedollarcnt', 'taxvaluedollarcnt',\n",
    "          'taxamount', 'landtaxvaluedollarcnt', 'lotsizesquarefeet', 'finishedsquarefeet6', 'garagetotalsqft',\n",
    "          'finishedsquarefeet12', 'unitcnt', 'finishedsquarefeet15', 'finishedfloor1squarefeet', 'longitude']\n",
    "for column in columns:\n",
    "    if column not in train_2016.columns:\n",
    "        continue\n",
    "    # +0.1 to avoid log0\n",
    "    train_2016[f'{column}_log'] = np.log(train_2016[column]+0.1)\n",
    "    train_2017[f'{column}_log'] = np.log(train_2017[column]+0.1)\n",
    "    test_2016[f'{column}_log'] = np.log(test_2016[column]+0.1)\n",
    "    test_2017[f'{column}_log'] = np.log(test_2017[column]+0.1)\n",
    "    \n",
    "train_2016.drop(columns, axis=1, inplace = True)\n",
    "train_2017.drop(columns, axis=1, inplace = True)\n",
    "test_2016.drop(columns, axis=1, inplace = True)\n",
    "test_2017.drop(columns, axis=1, inplace = True)"
   ]
  },
  {
   "cell_type": "code",
   "execution_count": 31,
   "metadata": {},
   "outputs": [
    {
     "data": {
      "text/plain": [
       "371"
      ]
     },
     "execution_count": 31,
     "metadata": {},
     "output_type": "execute_result"
    }
   ],
   "source": [
    "del properties_2016\n",
    "del properties_2017\n",
    "gc.collect()"
   ]
  },
  {
   "cell_type": "code",
   "execution_count": 32,
   "metadata": {},
   "outputs": [
    {
     "name": "stdout",
     "output_type": "stream",
     "text": [
      "Mem. usage decreased to 12.57 Mb (70.1% reduction)\n",
      "Mem. usage decreased to 10.81 Mb (70.1% reduction)\n",
      "Mem. usage decreased to 415.65 Mb (71.0% reduction)\n",
      "Mem. usage decreased to 415.65 Mb (71.0% reduction)\n"
     ]
    },
    {
     "data": {
      "text/plain": [
       "638.8886218070984"
      ]
     },
     "execution_count": 32,
     "metadata": {},
     "output_type": "execute_result"
    }
   ],
   "source": [
    "ts = time.time()\n",
    "\n",
    "train_2016 = reduce_mem_usage(train_2016)\n",
    "train_2017 = reduce_mem_usage(train_2017)\n",
    "test_2016 = reduce_mem_usage(test_2016)\n",
    "test_2017 = reduce_mem_usage(test_2017)\n",
    "\n",
    "gc.collect()\n",
    "\n",
    "time.time() - ts"
   ]
  },
  {
   "cell_type": "markdown",
   "metadata": {},
   "source": [
    "# Feature Engineering"
   ]
  },
  {
   "cell_type": "code",
   "execution_count": 33,
   "metadata": {},
   "outputs": [],
   "source": [
    "# Example of how aggregated features are going to be created\n",
    "def aggregated_feature(df_tr_2016, df_tr_2017, df_test_2016, df_test_2017, gpfeat, tgfeat):\n",
    "    \n",
    "    if type(gpfeat) is list:\n",
    "        gpfeat_name = '_'.join(gpfeat)\n",
    "    else:\n",
    "        gpfeat_name = gpfeat\n",
    "        \n",
    "    # Add a step to convert datatype of tgfeat to avoid trouble during the aggregation\n",
    "    \n",
    "    df_test_2016_group = df_test_2016.groupby(gpfeat).agg({tgfeat:[#'sum',\n",
    "                                                                   'mean',\n",
    "                                                                    #'std'\n",
    "    ]})\n",
    "    df_test_2016_group.columns = [f'{gpfeat_name}_{tgfeat}_mean',\n",
    "                                 # f'{gpfeat_name}_{tgfeat}_std'\n",
    "                                 ]\n",
    "    df_test_2016_group.reset_index(inplace = True)\n",
    "\n",
    "    df_tr_2016 = pd.merge(df_tr_2016, df_test_2016_group, how = 'left', on=[gpfeat])\n",
    "    df_test_2016 = pd.merge(df_test_2016, df_test_2016_group, how = 'left', on=[gpfeat])\n",
    "    \n",
    "    df_tr_2016[f'{gpfeat_name}_{tgfeat}_dif'] = df_tr_2016[f'{gpfeat_name}_{tgfeat}_mean'] - df_tr_2016[tgfeat]\n",
    "    df_test_2016[f'{gpfeat_name}_{tgfeat}_dif'] = df_test_2016[f'{gpfeat_name}_{tgfeat}_mean'] - df_test_2016[tgfeat]\n",
    "\n",
    "    df_tr_2016[f'{gpfeat_name}_{tgfeat}_ratio'] = df_tr_2016[f'{gpfeat_name}_{tgfeat}_dif']/df_tr_2016[f'{gpfeat_name}_{tgfeat}_mean']\n",
    "    df_test_2016[f'{gpfeat_name}_{tgfeat}_ratio'] = df_test_2016[f'{gpfeat_name}_{tgfeat}_dif']/df_test_2016[f'{gpfeat_name}_{tgfeat}_mean']\n",
    "\n",
    "    df_test_2017_group = df_test_2017.groupby([gpfeat]).agg({tgfeat:[#'sum',\n",
    "                                                                     'mean',\n",
    "                                                                    #'std'\n",
    "    ]})\n",
    "    df_test_2017_group.columns = [f'{gpfeat_name}_{tgfeat}_mean',\n",
    "                                 # f'{gpfeat_name}_{tgfeat}_std'\n",
    "                                 ]\n",
    "    df_test_2017_group.reset_index(inplace = True)\n",
    "\n",
    "    df_tr_2017 = pd.merge(df_tr_2017, df_test_2017_group, how = 'left', on=[gpfeat])\n",
    "    df_test_2017 = pd.merge(df_test_2017, df_test_2017_group, how = 'left', on=[gpfeat])\n",
    "    \n",
    "    df_tr_2017[f'{gpfeat_name}_{tgfeat}_dif'] = df_tr_2017[f'{gpfeat_name}_{tgfeat}_mean'] - df_tr_2017[tgfeat]\n",
    "    df_test_2017[f'{gpfeat_name}_{tgfeat}_dif'] = df_test_2017[f'{gpfeat_name}_{tgfeat}_mean'] - df_test_2017[tgfeat]\n",
    "\n",
    "    df_tr_2017[f'{gpfeat_name}_{tgfeat}_ratio'] = df_tr_2017[f'{gpfeat_name}_{tgfeat}_dif']/df_tr_2017[f'{gpfeat_name}_{tgfeat}_mean']\n",
    "    df_test_2017[f'{gpfeat_name}_{tgfeat}_ratio'] = df_test_2017[f'{gpfeat_name}_{tgfeat}_dif']/df_test_2017[f'{gpfeat_name}_{tgfeat}_mean']\n",
    "    \n",
    "    return df_tr_2016, df_tr_2017, df_test_2016, df_test_2017"
   ]
  },
  {
   "cell_type": "code",
   "execution_count": 34,
   "metadata": {},
   "outputs": [
    {
     "data": {
      "text/plain": [
       "64.2725477218628"
      ]
     },
     "execution_count": 34,
     "metadata": {},
     "output_type": "execute_result"
    }
   ],
   "source": [
    "ts = time.time()\n",
    "\n",
    "train_2016, train_2017, test_2016, test_2017 = \\\n",
    "        aggregated_feature(train_2016, train_2017, test_2016, test_2017, 'regionidcounty','taxvaluedollarcnt_log')\n",
    "train_2016, train_2017, test_2016, test_2017 = \\\n",
    "        aggregated_feature(train_2016, train_2017, test_2016, test_2017, 'regionidcity','taxvaluedollarcnt_log')\n",
    "train_2016, train_2017, test_2016, test_2017 = \\\n",
    "        aggregated_feature(train_2016, train_2017, test_2016, test_2017, 'regionidneighborhood','taxvaluedollarcnt_log')\n",
    "train_2016, train_2017, test_2016, test_2017 = \\\n",
    "        aggregated_feature(train_2016, train_2017, test_2016, test_2017, 'regionidzip','taxvaluedollarcnt_log')\n",
    "\n",
    "gc.collect()\n",
    "time.time() - ts"
   ]
  },
  {
   "cell_type": "code",
   "execution_count": 35,
   "metadata": {},
   "outputs": [
    {
     "data": {
      "text/plain": [
       "80.43468737602234"
      ]
     },
     "execution_count": 35,
     "metadata": {},
     "output_type": "execute_result"
    }
   ],
   "source": [
    "ts = time.time()\n",
    "\n",
    "train_2016, train_2017, test_2016, test_2017 = \\\n",
    "        aggregated_feature(train_2016, train_2017, test_2016, test_2017, 'regionidcounty','lotsizesquarefeet_log')\n",
    "train_2016, train_2017, test_2016, test_2017 = \\\n",
    "        aggregated_feature(train_2016, train_2017, test_2016, test_2017, 'regionidcity','lotsizesquarefeet_log')\n",
    "train_2016, train_2017, test_2016, test_2017 = \\\n",
    "        aggregated_feature(train_2016, train_2017, test_2016, test_2017, 'regionidneighborhood','lotsizesquarefeet_log')\n",
    "train_2016, train_2017, test_2016, test_2017 = \\\n",
    "        aggregated_feature(train_2016, train_2017, test_2016, test_2017, 'regionidzip','lotsizesquarefeet_log')\n",
    "\n",
    "gc.collect()\n",
    "time.time() - ts"
   ]
  },
  {
   "cell_type": "code",
   "execution_count": 36,
   "metadata": {},
   "outputs": [
    {
     "data": {
      "text/plain": [
       "93.0888249874115"
      ]
     },
     "execution_count": 36,
     "metadata": {},
     "output_type": "execute_result"
    }
   ],
   "source": [
    "ts = time.time()\n",
    "\n",
    "train_2016, train_2017, test_2016, test_2017 = \\\n",
    "        aggregated_feature(train_2016, train_2017, test_2016, test_2017, 'regionidcounty','finishedsquarefeet12_log')\n",
    "train_2016, train_2017, test_2016, test_2017 = \\\n",
    "        aggregated_feature(train_2016, train_2017, test_2016, test_2017, 'regionidcity','finishedsquarefeet12_log')\n",
    "train_2016, train_2017, test_2016, test_2017 = \\\n",
    "        aggregated_feature(train_2016, train_2017, test_2016, test_2017, 'regionidneighborhood','finishedsquarefeet12_log')\n",
    "train_2016, train_2017, test_2016, test_2017 = \\\n",
    "        aggregated_feature(train_2016, train_2017, test_2016, test_2017, 'regionidzip','finishedsquarefeet12_log')\n",
    "\n",
    "gc.collect()\n",
    "time.time() - ts"
   ]
  },
  {
   "cell_type": "code",
   "execution_count": 37,
   "metadata": {},
   "outputs": [
    {
     "data": {
      "text/plain": [
       "108.06228709220886"
      ]
     },
     "execution_count": 37,
     "metadata": {},
     "output_type": "execute_result"
    }
   ],
   "source": [
    "ts = time.time()\n",
    "\n",
    "train_2016, train_2017, test_2016, test_2017 = \\\n",
    "        aggregated_feature(train_2016, train_2017, test_2016, test_2017, 'regionidcounty','landtaxvaluedollarcnt_log')\n",
    "train_2016, train_2017, test_2016, test_2017 = \\\n",
    "        aggregated_feature(train_2016, train_2017, test_2016, test_2017, 'regionidcity','landtaxvaluedollarcnt_log')\n",
    "train_2016, train_2017, test_2016, test_2017 = \\\n",
    "        aggregated_feature(train_2016, train_2017, test_2016, test_2017, 'regionidneighborhood','landtaxvaluedollarcnt_log')\n",
    "train_2016, train_2017, test_2016, test_2017 = \\\n",
    "        aggregated_feature(train_2016, train_2017, test_2016, test_2017, 'regionidzip','landtaxvaluedollarcnt_log')\n",
    "\n",
    "gc.collect()\n",
    "time.time() - ts"
   ]
  },
  {
   "cell_type": "code",
   "execution_count": 38,
   "metadata": {},
   "outputs": [
    {
     "data": {
      "text/plain": [
       "122.69045376777649"
      ]
     },
     "execution_count": 38,
     "metadata": {},
     "output_type": "execute_result"
    }
   ],
   "source": [
    "ts = time.time()\n",
    "\n",
    "train_2016, train_2017, test_2016, test_2017 = \\\n",
    "        aggregated_feature(train_2016, train_2017, test_2016, test_2017, 'regionidcounty','yearbuilt')\n",
    "train_2016, train_2017, test_2016, test_2017 = \\\n",
    "        aggregated_feature(train_2016, train_2017, test_2016, test_2017, 'regionidcity','yearbuilt')\n",
    "train_2016, train_2017, test_2016, test_2017 = \\\n",
    "        aggregated_feature(train_2016, train_2017, test_2016, test_2017, 'regionidneighborhood','yearbuilt')\n",
    "train_2016, train_2017, test_2016, test_2017 = \\\n",
    "        aggregated_feature(train_2016, train_2017, test_2016, test_2017, 'regionidzip','yearbuilt')\n",
    "\n",
    "gc.collect()\n",
    "time.time() - ts"
   ]
  },
  {
   "cell_type": "code",
   "execution_count": 39,
   "metadata": {},
   "outputs": [
    {
     "data": {
      "text/plain": [
       "136.63302087783813"
      ]
     },
     "execution_count": 39,
     "metadata": {},
     "output_type": "execute_result"
    }
   ],
   "source": [
    "ts = time.time()\n",
    "\n",
    "train_2016, train_2017, test_2016, test_2017 = \\\n",
    "        aggregated_feature(train_2016, train_2017, test_2016, test_2017, 'regionidcounty','taxamount_log')\n",
    "train_2016, train_2017, test_2016, test_2017 = \\\n",
    "        aggregated_feature(train_2016, train_2017, test_2016, test_2017, 'regionidcity','taxamount_log')\n",
    "train_2016, train_2017, test_2016, test_2017 = \\\n",
    "        aggregated_feature(train_2016, train_2017, test_2016, test_2017, 'regionidneighborhood','taxamount_log')\n",
    "train_2016, train_2017, test_2016, test_2017 = \\\n",
    "        aggregated_feature(train_2016, train_2017, test_2016, test_2017, 'regionidzip','taxamount_log')\n",
    "\n",
    "gc.collect()\n",
    "time.time() - ts"
   ]
  },
  {
   "cell_type": "code",
   "execution_count": 40,
   "metadata": {},
   "outputs": [
    {
     "data": {
      "text/plain": [
       "150.57966876029968"
      ]
     },
     "execution_count": 40,
     "metadata": {},
     "output_type": "execute_result"
    }
   ],
   "source": [
    "ts = time.time()\n",
    "\n",
    "train_2016, train_2017, test_2016, test_2017 = \\\n",
    "        aggregated_feature(train_2016, train_2017, test_2016, test_2017, 'regionidcounty','structuretaxvaluedollarcnt_log')\n",
    "train_2016, train_2017, test_2016, test_2017 = \\\n",
    "        aggregated_feature(train_2016, train_2017, test_2016, test_2017, 'regionidcity','structuretaxvaluedollarcnt_log')\n",
    "train_2016, train_2017, test_2016, test_2017 = \\\n",
    "        aggregated_feature(train_2016, train_2017, test_2016, test_2017, 'regionidneighborhood','structuretaxvaluedollarcnt_log')\n",
    "train_2016, train_2017, test_2016, test_2017 = \\\n",
    "        aggregated_feature(train_2016, train_2017, test_2016, test_2017, 'regionidzip','structuretaxvaluedollarcnt_log')\n",
    "\n",
    "gc.collect()\n",
    "time.time() - ts"
   ]
  },
  {
   "cell_type": "code",
   "execution_count": 41,
   "metadata": {},
   "outputs": [
    {
     "data": {
      "text/plain": [
       "163.3737895488739"
      ]
     },
     "execution_count": 41,
     "metadata": {},
     "output_type": "execute_result"
    }
   ],
   "source": [
    "ts = time.time()\n",
    "\n",
    "train_2016, train_2017, test_2016, test_2017 = \\\n",
    "        aggregated_feature(train_2016, train_2017, test_2016, test_2017, 'regionidcounty','calculatedfinishedsquarefeet_log')\n",
    "train_2016, train_2017, test_2016, test_2017 = \\\n",
    "        aggregated_feature(train_2016, train_2017, test_2016, test_2017, 'regionidcity','calculatedfinishedsquarefeet_log')\n",
    "train_2016, train_2017, test_2016, test_2017 = \\\n",
    "        aggregated_feature(train_2016, train_2017, test_2016, test_2017, 'regionidneighborhood','calculatedfinishedsquarefeet_log')\n",
    "train_2016, train_2017, test_2016, test_2017 = \\\n",
    "        aggregated_feature(train_2016, train_2017, test_2016, test_2017, 'regionidzip','calculatedfinishedsquarefeet_log')\n",
    "\n",
    "gc.collect()\n",
    "time.time() - ts"
   ]
  },
  {
   "cell_type": "code",
   "execution_count": 42,
   "metadata": {},
   "outputs": [],
   "source": [
    "train_2016['num_of_nan'] = train_2016.isnull().sum(axis=1)\n",
    "train_2017['num_of_nan'] = train_2017.isnull().sum(axis=1)\n",
    "\n",
    "test_2016['num_of_nan'] = test_2016.isnull().sum(axis=1)\n",
    "test_2017['num_of_nan'] = test_2017.isnull().sum(axis=1)"
   ]
  },
  {
   "cell_type": "code",
   "execution_count": 46,
   "metadata": {},
   "outputs": [],
   "source": [
    "train_2016 = train.loc[train['year']==2016]\n",
    "train_2017 = train.loc[train['year']==2017]"
   ]
  },
  {
   "cell_type": "code",
   "execution_count": 47,
   "metadata": {},
   "outputs": [],
   "source": [
    "with open('train_2016.pickle', 'wb') as handle:\n",
    "    pickle.dump(train_2016, handle, protocol = pickle.HIGHEST_PROTOCOL)\n",
    "\n",
    "with open('test_2016.pickle', 'wb') as handle:\n",
    "    pickle.dump(test_2016, handle, protocol = pickle.HIGHEST_PROTOCOL)\n",
    "\n",
    "with open('train_2017.pickle', 'wb') as handle:\n",
    "    pickle.dump(train_2017, handle, protocol = pickle.HIGHEST_PROTOCOL)\n",
    "    \n",
    "with open('test_2017.pickle', 'wb') as handle:\n",
    "    pickle.dump(test_2017, handle, protocol = pickle.HIGHEST_PROTOCOL)"
   ]
  },
  {
   "cell_type": "code",
   "execution_count": 14,
   "metadata": {},
   "outputs": [],
   "source": [
    "with open('train_2016.pickle', 'rb') as handle:\n",
    "    train_2016 = pickle.load(handle)\n",
    "    \n",
    "with open('train_2017.pickle', 'rb') as handle:\n",
    "    train_2017 = pickle.load(handle)\n",
    "\n",
    "with open('test_2016.pickle', 'rb') as handle:\n",
    "    test_2016 = pickle.load(handle)\n",
    "    \n",
    "with open('test_2017.pickle', 'rb') as handle:\n",
    "    test_2017 = pickle.load(handle)"
   ]
  },
  {
   "cell_type": "code",
   "execution_count": 15,
   "metadata": {},
   "outputs": [
    {
     "data": {
      "text/plain": [
       "0"
      ]
     },
     "execution_count": 15,
     "metadata": {},
     "output_type": "execute_result"
    }
   ],
   "source": [
    "train = train_2016.append(train_2017, ignore_index=True)\n",
    "del train_2016, train_2017\n",
    "gc.collect()"
   ]
  },
  {
   "cell_type": "code",
   "execution_count": 22,
   "metadata": {},
   "outputs": [],
   "source": [
    "train['target'] = train['logerror'].clip(-0.2,0.2)"
   ]
  },
  {
   "cell_type": "markdown",
   "metadata": {},
   "source": [
    "Target encoding"
   ]
  },
  {
   "cell_type": "code",
   "execution_count": 34,
   "metadata": {},
   "outputs": [],
   "source": [
    "n_splits = 5\n",
    "folds = KFold(n_splits)"
   ]
  },
  {
   "cell_type": "code",
   "execution_count": 35,
   "metadata": {},
   "outputs": [],
   "source": [
    "def K_Fold_target_encoding(df_train, df_test_1, df_test_2, GCol, target, folds):\n",
    "    \n",
    "    if type(GCol) is list:\n",
    "        GCol_use = '_'.join(GCol)\n",
    "        GCol_use = '_'.join(GCol)\n",
    "        df_train[GCol_use] = ''\n",
    "        df_test_1[GCol_use] = ''\n",
    "        df_test_2[GCol_use] = ''\n",
    "        for col in GCol:\n",
    "            df_train[GCol_use] = df_train[GCol_use] + df_train[col].astype(str) + '_'\n",
    "            df_test_1[GCol_use] = df_test_1[GCol_use] + df_test_1[col].astype(str) + '_'\n",
    "            df_test_2[GCol_use] = df_test_2[GCol_use] + df_test_2[col].astype(str) + '_'\n",
    "        df_train[GCol_use]=df_train[GCol_use].str.strip('_')\n",
    "        df_test_1[GCol_use]=df_test_1[GCol_use].str.strip('_')\n",
    "        df_test_2[GCol_use]=df_test_2[GCol_use].str.strip('_')\n",
    "        \n",
    "    else:\n",
    "        GCol_use = GCol\n",
    "        \n",
    "    colName = f'{GCol_use}_{target}_enc'\n",
    "    mean_of_target = df_train[target].mean()\n",
    "    \n",
    "    df_train[colName] = np.nan\n",
    "    \n",
    "    for tr_ind, val_ind in folds.split(df_train):\n",
    "        X_tr, X_val = df_train.iloc[tr_ind], df_train.iloc[val_ind]\n",
    "        df_train.loc[df_train.index[val_ind], colName] = X_val[GCol_use].map(X_tr.groupby(GCol_use)[target].mean())\n",
    "    \n",
    "    group_mean = df_train.groupby(GCol_use).agg({target: ['mean']})\n",
    "    group_mean.columns = [colName]\n",
    "    group_mean.reset_index(inplace=True)\n",
    "    \n",
    "    df_test_1 = pd.merge(df_test_1, group_mean, how = 'left', on = GCol_use)\n",
    "    df_test_2 = pd.merge(df_test_2, group_mean, how = 'left', on = GCol_use)\n",
    "    \n",
    "    del group_mean\n",
    "    gc.collect()\n",
    "    \n",
    "    df_test_1[colName].fillna(mean_of_target, inplace = True)\n",
    "    df_test_2[colName].fillna(mean_of_target, inplace = True)\n",
    "    \n",
    "    if type(GCol) is list:\n",
    "        df_train.drop(GCol_use, axis=1, inplace=True)\n",
    "        df_test_1.drop(GCol_use, axis=1, inplace=True)\n",
    "        df_test_2.drop(GCol_use, axis=1, inplace=True)\n",
    "    return df_train, df_test_1, df_test_2"
   ]
  },
  {
   "cell_type": "code",
   "execution_count": 20,
   "metadata": {},
   "outputs": [
    {
     "data": {
      "text/plain": [
       "138.251935005188"
      ]
     },
     "execution_count": 20,
     "metadata": {},
     "output_type": "execute_result"
    }
   ],
   "source": [
    "ts = time.time()\n",
    "\n",
    "train, test_2016, test_2017 = K_Fold_target_encoding(train, test_2016, test_2017, ['regionidcity','propertycountylandusecode'], 'target', folds)\n",
    "train, test_2016, test_2017 = K_Fold_target_encoding(train, test_2016, test_2017, ['regionidzip','propertycountylandusecode'], 'target', folds)\n",
    "train, test_2016, test_2017 = K_Fold_target_encoding(train, test_2016, test_2017, ['regionidneighborhood','propertycountylandusecode'], 'target', folds)\n",
    "\n",
    "time.time() - ts"
   ]
  },
  {
   "cell_type": "code",
   "execution_count": 36,
   "metadata": {},
   "outputs": [
    {
     "data": {
      "text/plain": [
       "282.1068387031555"
      ]
     },
     "execution_count": 36,
     "metadata": {},
     "output_type": "execute_result"
    }
   ],
   "source": [
    "ts = time.time()\n",
    "\n",
    "train, test_2016, test_2017 = K_Fold_target_encoding(train, test_2016, test_2017, ['regionidcity','propertyzoningdesc'], 'target', folds)\n",
    "train, test_2016, test_2017 = K_Fold_target_encoding(train, test_2016, test_2017, ['regionidzip','propertyzoningdesc'], 'target', folds)\n",
    "train, test_2016, test_2017 = K_Fold_target_encoding(train, test_2016, test_2017, ['regionidneighborhood','propertyzoningdesc'], 'target', folds)\n",
    "\n",
    "time.time() - ts"
   ]
  },
  {
   "cell_type": "markdown",
   "metadata": {},
   "source": [
    "The really useful feature comes from data with prediction history"
   ]
  },
  {
   "cell_type": "code",
   "execution_count": 33,
   "metadata": {},
   "outputs": [],
   "source": [
    "# Get the number of times showing up in the training set\n",
    "group_user = train.groupby('ParcelId').agg({'logerror':'count'})\n",
    "group_user.columns = ['user_history']\n",
    "group_user.reset_index(inplace = True)"
   ]
  },
  {
   "cell_type": "code",
   "execution_count": 34,
   "metadata": {},
   "outputs": [],
   "source": [
    "# Get ParcelId with more than 1 records in the training set\n",
    "repeat_sale = group_user.loc[group_user['user_history']>1,'ParcelId'].unique()\n",
    "\n",
    "train_repeat = train.loc[train['ParcelId'].isin(repeat_sale)]"
   ]
  },
  {
   "cell_type": "code",
   "execution_count": 35,
   "metadata": {},
   "outputs": [],
   "source": [
    "# Look at first logerror and second logerror\n",
    "sale_history = pd.DataFrame()\n",
    "sale_history['ParcelId'] = train_repeat['ParcelId'].unique()\n",
    "\n",
    "sale_first = train_repeat[['ParcelId','logerror']].groupby('ParcelId').first()\n",
    "sale_first.reset_index(inplace = True)\n",
    "\n",
    "sale_history = pd.merge(sale_history, sale_first, on = 'ParcelId', how= 'left')\n",
    "sale_history.rename(columns = {'logerror':'logerror_first'},inplace=True)\n",
    "\n",
    "sale_second = train_repeat[['ParcelId','logerror']].groupby('ParcelId').nth(1)\n",
    "sale_second.reset_index(inplace = True)\n",
    "\n",
    "sale_history = pd.merge(sale_history, sale_second, on = 'ParcelId', how= 'left')\n",
    "sale_history.rename(columns = {'logerror':'logerror_second'},inplace=True)"
   ]
  },
  {
   "cell_type": "markdown",
   "metadata": {},
   "source": [
    "What's interesting here is that for lots with 2 records in the training set, the second time prediction tends to underpredict which results in a more negative logerror. This might be due to the housing price rising rate is faster than what model expects."
   ]
  },
  {
   "cell_type": "code",
   "execution_count": 36,
   "metadata": {},
   "outputs": [
    {
     "data": {
      "text/plain": [
       "<matplotlib.collections.PathCollection at 0x7fcb58a57898>"
      ]
     },
     "execution_count": 36,
     "metadata": {},
     "output_type": "execute_result"
    },
    {
     "data": {
      "image/png": "[encoded data removed]",
      "text/plain": [
       "<Figure size 432x288 with 1 Axes>"
      ]
     },
     "metadata": {
      "needs_background": "light"
     },
     "output_type": "display_data"
    }
   ],
   "source": [
    "plt.xlabel('logerror_first')\n",
    "plt.ylabel('logerror_second')\n",
    "plt.scatter(sale_history['logerror_first'], sale_history['logerror_second'])"
   ]
  },
  {
   "cell_type": "markdown",
   "metadata": {},
   "source": [
    "Based on the above discovery, we engineered lag features"
   ]
  },
  {
   "cell_type": "code",
   "execution_count": 21,
   "metadata": {},
   "outputs": [],
   "source": [
    "train['year_copy'] = train['year']\n",
    "train['month_copy'] = train['month']\n",
    "train['month_block_copy'] = train['month_block']\n",
    "train.drop(['year','month','month_block'], axis=1, inplace=True)\n",
    "\n",
    "train.rename(columns= {'year_copy':'year',\n",
    "                      'month_copy':'month',\n",
    "                      'month_block_copy':'month_block'},inplace=True)"
   ]
  },
  {
   "cell_type": "code",
   "execution_count": 47,
   "metadata": {},
   "outputs": [],
   "source": [
    "# Code for prev_logerror features\n",
    "months = [10, 11, 12]\n",
    "for month in months:\n",
    "    tmp=train.loc[train['month_block']<month]\n",
    "    # Get the latest sale record\n",
    "    sale_last = tmp[['ParcelId',\n",
    "                     'month_block',\n",
    "                     'logerror']].groupby('ParcelId').nth(-1)\n",
    "    \n",
    "    sale_last.rename(columns={'logerror':f'prev_logerror_{month}',\n",
    "                             'month_block':f'prev_month_{month}'},inplace=True)\n",
    "    sale_last.reset_index(inplace = True)\n",
    "    \n",
    "    test_2016 = pd.merge(test_2016, sale_last, on = 'ParcelId', how='left')\n",
    "    test_2016[f'month_interval_{month}'] = month - test_2016[f'prev_month_{month}']\n",
    "    test_2016[f'has_history_{month}'] = 0\n",
    "    test_2016.loc[test_2016[f'prev_logerror_{month}'].notnull(),f'has_history_{month}'] = 1\n",
    "    \n",
    "months = [10, 11, 12]\n",
    "for month in months:\n",
    "    tmp=train.loc[train['month_block']<(month+12)]\n",
    "    # Get the latest sale record\n",
    "    sale_last = tmp[['ParcelId',\n",
    "                     'month_block',\n",
    "                     'logerror']].groupby('ParcelId').nth(-1)\n",
    "    sale_last.rename(columns={'logerror':f'prev_logerror_{month}',\n",
    "                             'month_block':f'prev_month_{month}'},inplace=True)\n",
    "    sale_last.reset_index(inplace = True)\n",
    "    \n",
    "    test_2017 = pd.merge(test_2017, sale_last, on = 'ParcelId', how='left')\n",
    "    test_2017[f'month_interval_{month}'] = (month + 12) - test_2017[f'prev_month_{month}']\n",
    "    test_2017[f'has_history_{month}'] = 0\n",
    "    test_2017.loc[test_2017[f'prev_logerror_{month}'].notnull(),f'has_history_{month}'] = 1"
   ]
  },
  {
   "cell_type": "code",
   "execution_count": 22,
   "metadata": {},
   "outputs": [],
   "source": [
    "train['prev_month'] = train.groupby('ParcelId')['month_block'].shift()\n",
    "train['prev_logerror'] = train.groupby('ParcelId')['logerror'].shift()\n",
    "train['month_interval'] = train['month_block'] - train['prev_month']\n",
    "train['has_history'] = 0\n",
    "train.loc[train['prev_logerror'].notnull(),'has_history'] = 1"
   ]
  },
  {
   "cell_type": "code",
   "execution_count": 103,
   "metadata": {},
   "outputs": [],
   "source": [
    "with open('train.pickle', 'wb') as handle:\n",
    "    pickle.dump(train_2016, handle, protocol = pickle.HIGHEST_PROTOCOL)\n",
    "\n",
    "with open('test_2016.pickle', 'wb') as handle:\n",
    "    pickle.dump(test_2016, handle, protocol = pickle.HIGHEST_PROTOCOL)\n",
    "    \n",
    "with open('test_2017.pickle', 'wb') as handle:\n",
    "    pickle.dump(test_2017, handle, protocol = pickle.HIGHEST_PROTOCOL)"
   ]
  },
  {
   "cell_type": "code",
   "execution_count": 14,
   "metadata": {},
   "outputs": [],
   "source": [
    "with open('train.pickle', 'rb') as handle:\n",
    "    train = pickle.load(handle)\n",
    "\n",
    "with open('test_2016.pickle', 'rb') as handle:\n",
    "    test_2016 = pickle.load(handle)\n",
    "    \n",
    "with open('test_2017.pickle', 'rb') as handle:\n",
    "    test_2017 = pickle.load(handle)"
   ]
  },
  {
   "cell_type": "markdown",
   "metadata": {},
   "source": [
    "# Modeling"
   ]
  },
  {
   "cell_type": "code",
   "execution_count": 23,
   "metadata": {},
   "outputs": [],
   "source": [
    "# Time correlation is small here. Therefore shuffling the data doesn't make the result worse. In fact it slightly improve the result\n",
    "n_splits = 5\n",
    "#folds = TimeSeriesSplit(n_splits=n_splits)\n",
    "folds = KFold(n_splits, shuffle = True, random_state = 3)\n",
    "#folds = GroupKFold(n_splits=n_splits)"
   ]
  },
  {
   "cell_type": "code",
   "execution_count": 24,
   "metadata": {},
   "outputs": [],
   "source": [
    "bad_col = ['logerror', 'oof', 'target', 'target_class', 'class_guess', 'prob', 'outlier', 'oof_regre', 'logerror_correction',\n",
    "           'regionidcounty_target_mean_lag_3','regionidcounty_target_mean_lag_4',\n",
    "           'heatingorsystemtypeid_target_mean_lag_3','heatingorsystemtypeid_target_mean_lag_4',\n",
    "           'trend_county','regionidcounty_target_enc','heatingorsystemtypeid_target_enc', 'trend',\n",
    "           'regionidcity_target_enc','regionidzip_target_enc','regionidneighborhood_target_enc',\n",
    "           'regionidcounty','buildingclasstypeid','basementsqft','yardbuildingsqft26','architecturalstyletypeid',\n",
    "           'finishedsquarefeet13','storytypeid','fips','regionidcounty_yearbuilt_mean',\n",
    "          ]\n",
    "features_0 = [feature for feature in train.columns if feature not in bad_col]"
   ]
  },
  {
   "cell_type": "markdown",
   "metadata": {},
   "source": [
    "Tried ks_sample or pearson_correlation for feature selection. Both of them don't work"
   ]
  },
  {
   "cell_type": "code",
   "execution_count": 25,
   "metadata": {},
   "outputs": [],
   "source": [
    "# Clip the target to allow more stable prediction results   &(train['prev_logerror'].notnull())\n",
    "X_train = train.loc[(train['month_block']>3),features_0]\n",
    "y_train = train.loc[(train['month_block']>3),'logerror'].clip(-1, 1)   # best -1,1"
   ]
  },
  {
   "cell_type": "markdown",
   "metadata": {},
   "source": [
    "lgb model"
   ]
  },
  {
   "cell_type": "code",
   "execution_count": 26,
   "metadata": {},
   "outputs": [],
   "source": [
    "# 'mae' as loss function is more robust\n",
    "params = {'num_leaves': 64,                        # 256   best 64     \n",
    "          'min_data_in_leaf': 200,                  # 200           \n",
    "          'objective': 'mae',                     # mae     best 'mae'                        \n",
    "          'max_depth': 10,                          # 10   best  10\n",
    "          'learning_rate': 0.1,                    #  0.1    best 0.1  0.07          \n",
    "          \"boosting\": \"gbdt\",             \n",
    "          \"bagging_freq\": 1,                                    \n",
    "          \"bagging_fraction\": 0.7,                  # 0.7   best 0.7                           \n",
    "          'feature_fraction': 0.5,                  # 0.5   best 0.5\n",
    "          \"bagging_seed\": 11,                      # 11              \n",
    "          \"metric\": 'mae',                                       \n",
    "          \"verbosity\": -1,                                       \n",
    "          #'reg_alpha': 0.1,                                    \n",
    "          #'reg_lambda': 0.05,\n",
    "          'alpha': 0.5,                             # 0.5\n",
    "         }"
   ]
  },
  {
   "cell_type": "code",
   "execution_count": 27,
   "metadata": {
    "scrolled": true
   },
   "outputs": [
    {
     "name": "stdout",
     "output_type": "stream",
     "text": [
      "yes\n",
      "Fold 1 started at Fri Apr 24 23:38:20 2020\n",
      "Training until validation scores don't improve for 200 rounds.\n",
      "Early stopping, best iteration is:\n",
      "[264]\ttraining's l1: 0.0605181\tvalid_1's l1: 0.0640894\n",
      "Fold 2 started at Fri Apr 24 23:38:37 2020\n",
      "Training until validation scores don't improve for 200 rounds.\n",
      "Early stopping, best iteration is:\n",
      "[239]\ttraining's l1: 0.0609332\tvalid_1's l1: 0.0632794\n",
      "Fold 3 started at Fri Apr 24 23:38:54 2020\n",
      "Training until validation scores don't improve for 200 rounds.\n",
      "Early stopping, best iteration is:\n",
      "[158]\ttraining's l1: 0.0614643\tvalid_1's l1: 0.0642249\n",
      "Fold 4 started at Fri Apr 24 23:39:07 2020\n",
      "Training until validation scores don't improve for 200 rounds.\n",
      "Early stopping, best iteration is:\n",
      "[229]\ttraining's l1: 0.0608625\tvalid_1's l1: 0.0639427\n",
      "Fold 5 started at Fri Apr 24 23:39:23 2020\n",
      "Training until validation scores don't improve for 200 rounds.\n",
      "Early stopping, best iteration is:\n",
      "[117]\ttraining's l1: 0.0619607\tvalid_1's l1: 0.0643241\n",
      "Train loss mean: 0.061148, std: 0.000507.\n",
      "CV mean score: 0.063972, std: 0.000369.\n"
     ]
    },
    {
     "data": {
      "text/plain": [
       "76.21701312065125"
      ]
     },
     "execution_count": 27,
     "metadata": {},
     "output_type": "execute_result"
    },
    {
     "data": {
      "image/png": "[encoded data removed]",
      "text/plain": [
       "<Figure size 1152x864 with 1 Axes>"
      ]
     },
     "metadata": {
      "needs_background": "light"
     },
     "output_type": "display_data"
    }
   ],
   "source": [
    "ts = time.time()\n",
    "\n",
    "result_dict_lgb = train_model_regression_Zillow(\n",
    "                         X=X_train, \n",
    "                         y=y_train, \n",
    "                         params=params, \n",
    "                         groups = None, \n",
    "                         folds=folds, model_type='lgb', eval_metric='mae', plot_feature_importance=True,\n",
    "                          verbose=500, early_stopping_rounds=200, n_estimators=20000)\n",
    "\n",
    "time.time()-ts"
   ]
  },
  {
   "cell_type": "code",
   "execution_count": 53,
   "metadata": {},
   "outputs": [],
   "source": [
    "models = result_dict_lgb['models']"
   ]
  },
  {
   "cell_type": "code",
   "execution_count": 54,
   "metadata": {
    "scrolled": true
   },
   "outputs": [
    {
     "data": {
      "text/plain": [
       "7"
      ]
     },
     "execution_count": 54,
     "metadata": {},
     "output_type": "execute_result"
    }
   ],
   "source": [
    "test_predict(test_2016, models, features_0, 2016)"
   ]
  },
  {
   "cell_type": "code",
   "execution_count": 55,
   "metadata": {},
   "outputs": [],
   "source": [
    "test_predict(test_2017, models, features_0, 2017)"
   ]
  },
  {
   "cell_type": "markdown",
   "metadata": {},
   "source": [
    "Clipping parameters testing. Intention is to figure out how does the out of fold prediction depends on the lower bound and upper bound of target clipping. Seems mae is more robust and not sensitive to the clipping parameters. It also gives better result compared to mse loss function."
   ]
  },
  {
   "cell_type": "code",
   "execution_count": 41,
   "metadata": {},
   "outputs": [],
   "source": [
    "params = {'num_leaves': 64,                        # 256   best 64     \n",
    "          'min_data_in_leaf': 200,                  # 200           \n",
    "          'objective': 'mae',                     # mae     best 'mae'                        \n",
    "          'max_depth': 10,                          # 10   best  10\n",
    "          'learning_rate': 0.1,                    #  0.1    best 0.1                \n",
    "          \"boosting\": \"gbdt\",             \n",
    "          \"bagging_freq\": 1,                                    \n",
    "          \"bagging_fraction\": 0.7,                  # 0.7   best 0.7                           \n",
    "          'feature_fraction': 0.5,                  # 0.5   best 0.5\n",
    "          \"bagging_seed\": 11,                      # 11              \n",
    "          \"metric\": 'mae',                                       \n",
    "          \"verbosity\": -1,                                       \n",
    "          #'reg_alpha': 0.1,                                    \n",
    "          #'reg_lambda': 0.05,\n",
    "          'alpha': 0.5                             # 0.5\n",
    "         }"
   ]
  },
  {
   "cell_type": "code",
   "execution_count": null,
   "metadata": {
    "scrolled": true
   },
   "outputs": [],
   "source": [
    "lower_bounds = np.arange(-0.2, -0.07, 0.015)\n",
    "upper_bounds = np.arange(0.08, 0.2, 0.015)\n",
    "x = [] # lower_bounds\n",
    "y = [] # upper_bounds\n",
    "z = [] # mae\n",
    "train_use = train.loc[train['month_block']>3]\n",
    "for l_bound in lower_bounds:\n",
    "    for u_bound in upper_bounds:\n",
    "        X_train = train.loc[train['month_block']>3,features_0]\n",
    "        y_train = train.loc[train['month_block']>3,'logerror'].clip(l_bound, u_bound)\n",
    "        \n",
    "        x.append(l_bound)\n",
    "        y.append(u_bound)\n",
    "        \n",
    "        result_dict_lgb = train_model_regression_Zillow(\n",
    "                                 X=X_train, \n",
    "                                 y=y_train, \n",
    "                                 params=params, \n",
    "                                 groups = None, \n",
    "                                 folds=folds, model_type='lgb', eval_metric='mae', plot_feature_importance=False,\n",
    "                                  verbose=500, early_stopping_rounds=200, n_estimators=20000)\n",
    "        \n",
    "        train_use['oof'] = result_dict_lgb['oof']\n",
    "        mae = mean_absolute_error(train_use['logerror'],train_use['oof'])\n",
    "        \n",
    "        z.append(mae)"
   ]
  },
  {
   "cell_type": "markdown",
   "metadata": {},
   "source": [
    "Use mae as loss function"
   ]
  },
  {
   "cell_type": "code",
   "execution_count": 44,
   "metadata": {},
   "outputs": [
    {
     "data": {
      "text/plain": [
       "<matplotlib.colorbar.Colorbar at 0x7f597ada28d0>"
      ]
     },
     "execution_count": 44,
     "metadata": {},
     "output_type": "execute_result"
    },
    {
     "data": {
      "image/png": "[encoded data removed]",
      "text/plain": [
       "<Figure size 432x288 with 2 Axes>"
      ]
     },
     "metadata": {
      "needs_background": "light"
     },
     "output_type": "display_data"
    }
   ],
   "source": [
    "x_plot=np.unique(x)\n",
    "y_plot=np.unique(y)\n",
    "X,Y = np.meshgrid(x_plot,y_plot)\n",
    "\n",
    "Z=z_plot.reshape(len(y_plot),len(x_plot))\n",
    "cmap = plt.get_cmap('PiYG')\n",
    "\n",
    "plt.pcolormesh(X,Y,Z, cmap = cmap)\n",
    "plt.colorbar()"
   ]
  },
  {
   "cell_type": "markdown",
   "metadata": {},
   "source": [
    "Use mse as loss function"
   ]
  },
  {
   "cell_type": "code",
   "execution_count": 38,
   "metadata": {},
   "outputs": [
    {
     "data": {
      "text/plain": [
       "<matplotlib.colorbar.Colorbar at 0x7f597bc560b8>"
      ]
     },
     "execution_count": 38,
     "metadata": {},
     "output_type": "execute_result"
    },
    {
     "data": {
      "image/png": "[encoded data removed]",
      "text/plain": [
       "<Figure size 432x288 with 2 Axes>"
      ]
     },
     "metadata": {
      "needs_background": "light"
     },
     "output_type": "display_data"
    }
   ],
   "source": [
    "x_plot=np.unique(x)\n",
    "y_plot=np.unique(y)\n",
    "X,Y = np.meshgrid(x_plot,y_plot)\n",
    "\n",
    "Z=z_plot.reshape(len(y_plot),len(x_plot))\n",
    "cmap = plt.get_cmap('PiYG')\n",
    "\n",
    "plt.pcolormesh(X,Y,Z, cmap = cmap)\n",
    "plt.colorbar()"
   ]
  },
  {
   "cell_type": "markdown",
   "metadata": {},
   "source": [
    "The reason why using previous logerror improves the private leaderboard rank but not on public leaderboard is due to that 2016 data doesn't have many samples with history"
   ]
  },
  {
   "cell_type": "code",
   "execution_count": null,
   "metadata": {},
   "outputs": [],
   "source": [
    "tmp = train.loc[train['prev_logerror'].notnull()]"
   ]
  },
  {
   "cell_type": "code",
   "execution_count": 82,
   "metadata": {},
   "outputs": [
    {
     "data": {
      "text/plain": [
       "<matplotlib.collections.PathCollection at 0x7f2d5d078908>"
      ]
     },
     "execution_count": 82,
     "metadata": {},
     "output_type": "execute_result"
    },
    {
     "data": {
      "image/png": "[encoded data removed]",
      "text/plain": [
       "<Figure size 432x288 with 1 Axes>"
      ]
     },
     "metadata": {
      "needs_background": "light"
     },
     "output_type": "display_data"
    }
   ],
   "source": [
    "group = tmp.groupby('month_block').agg({'logerror':'count'})\n",
    "group.columns=['count']\n",
    "group.reset_index(inplace=True)\n",
    "\n",
    "plt.scatter(group['month_block'],group['count'])"
   ]
  },
  {
   "cell_type": "markdown",
   "metadata": {},
   "source": [
    "# Submissions"
   ]
  },
  {
   "cell_type": "code",
   "execution_count": 56,
   "metadata": {},
   "outputs": [],
   "source": [
    "columns_submission = test_2017.columns[:7]\n",
    "submission = test_2017[columns_submission]\n",
    "submission = submission.round(4)\n",
    "submission.to_csv('./submissions/submission_20200424_0.csv', index=False)"
   ]
  },
  {
   "cell_type": "code",
   "execution_count": 66,
   "metadata": {},
   "outputs": [
    {
     "data": {
      "text/html": [
       "<div>\n",
       "<style scoped>\n",
       "    .dataframe tbody tr th:only-of-type {\n",
       "        vertical-align: middle;\n",
       "    }\n",
       "\n",
       "    .dataframe tbody tr th {\n",
       "        vertical-align: top;\n",
       "    }\n",
       "\n",
       "    .dataframe thead th {\n",
       "        text-align: right;\n",
       "    }\n",
       "</style>\n",
       "<table border=\"1\" class=\"dataframe\">\n",
       "  <thead>\n",
       "    <tr style=\"text-align: right;\">\n",
       "      <th></th>\n",
       "      <th>ParcelId</th>\n",
       "      <th>201610</th>\n",
       "      <th>201611</th>\n",
       "      <th>201612</th>\n",
       "      <th>201710</th>\n",
       "      <th>201711</th>\n",
       "      <th>201712</th>\n",
       "    </tr>\n",
       "  </thead>\n",
       "  <tbody>\n",
       "    <tr>\n",
       "      <th>0</th>\n",
       "      <td>10754147</td>\n",
       "      <td>0.0259</td>\n",
       "      <td>0.0257</td>\n",
       "      <td>0.0247</td>\n",
       "      <td>0.0273</td>\n",
       "      <td>0.0266</td>\n",
       "      <td>0.0261</td>\n",
       "    </tr>\n",
       "    <tr>\n",
       "      <th>1</th>\n",
       "      <td>10759547</td>\n",
       "      <td>0.0174</td>\n",
       "      <td>0.0173</td>\n",
       "      <td>0.0164</td>\n",
       "      <td>0.0192</td>\n",
       "      <td>0.0169</td>\n",
       "      <td>0.0161</td>\n",
       "    </tr>\n",
       "    <tr>\n",
       "      <th>2</th>\n",
       "      <td>10843547</td>\n",
       "      <td>0.0335</td>\n",
       "      <td>0.0339</td>\n",
       "      <td>0.0333</td>\n",
       "      <td>0.0338</td>\n",
       "      <td>0.0331</td>\n",
       "      <td>0.0330</td>\n",
       "    </tr>\n",
       "    <tr>\n",
       "      <th>3</th>\n",
       "      <td>10859147</td>\n",
       "      <td>0.0369</td>\n",
       "      <td>0.0368</td>\n",
       "      <td>0.0350</td>\n",
       "      <td>0.0369</td>\n",
       "      <td>0.0329</td>\n",
       "      <td>0.0315</td>\n",
       "    </tr>\n",
       "    <tr>\n",
       "      <th>4</th>\n",
       "      <td>10879947</td>\n",
       "      <td>0.0123</td>\n",
       "      <td>0.0130</td>\n",
       "      <td>0.0131</td>\n",
       "      <td>0.0123</td>\n",
       "      <td>0.0125</td>\n",
       "      <td>0.0126</td>\n",
       "    </tr>\n",
       "  </tbody>\n",
       "</table>\n",
       "</div>"
      ],
      "text/plain": [
       "   ParcelId  201610  201611  201612  201710  201711  201712\n",
       "0  10754147  0.0259  0.0257  0.0247  0.0273  0.0266  0.0261\n",
       "1  10759547  0.0174  0.0173  0.0164  0.0192  0.0169  0.0161\n",
       "2  10843547  0.0335  0.0339  0.0333  0.0338  0.0331  0.0330\n",
       "3  10859147  0.0369  0.0368  0.0350  0.0369  0.0329  0.0315\n",
       "4  10879947  0.0123  0.0130  0.0131  0.0123  0.0125  0.0126"
      ]
     },
     "execution_count": 66,
     "metadata": {},
     "output_type": "execute_result"
    }
   ],
   "source": [
    "submission.head()"
   ]
  },
  {
   "cell_type": "markdown",
   "metadata": {},
   "source": [
    "Result blending"
   ]
  },
  {
   "cell_type": "code",
   "execution_count": 14,
   "metadata": {},
   "outputs": [],
   "source": [
    "submission_1 = pd.read_csv('./submissions/submission_20200424_0.csv')\n",
    "submission_2 = pd.read_csv('./submissions/submission_20200423_4.csv')\n",
    "submission_3 = pd.read_csv('./submissions/submission_20200423_3.csv')\n",
    "submission_4 = pd.read_csv('./submissions/submission_20200423_2.csv')\n",
    "\n",
    "submission = submission_1.copy()"
   ]
  },
  {
   "cell_type": "code",
   "execution_count": 15,
   "metadata": {},
   "outputs": [],
   "source": [
    "ratio_1 = 0.25\n",
    "ratio_2 = 0.25\n",
    "ratio_3 = 0.25\n",
    "\n",
    "for feature in submission_1.columns:\n",
    "    if feature == 'ParcelId':\n",
    "        continue\n",
    "        \n",
    "    submission[feature] = submission_1[feature]*ratio_1 + \\\n",
    "                            submission_2[feature]*ratio_2 + \\\n",
    "                            submission_3[feature]*ratio_3 + \\\n",
    "                            submission_4[feature]*(1 - ratio_1 - ratio_2 - ratio_3)"
   ]
  },
  {
   "cell_type": "code",
   "execution_count": 16,
   "metadata": {},
   "outputs": [
    {
     "data": {
      "text/html": [
       "<div>\n",
       "<style scoped>\n",
       "    .dataframe tbody tr th:only-of-type {\n",
       "        vertical-align: middle;\n",
       "    }\n",
       "\n",
       "    .dataframe tbody tr th {\n",
       "        vertical-align: top;\n",
       "    }\n",
       "\n",
       "    .dataframe thead th {\n",
       "        text-align: right;\n",
       "    }\n",
       "</style>\n",
       "<table border=\"1\" class=\"dataframe\">\n",
       "  <thead>\n",
       "    <tr style=\"text-align: right;\">\n",
       "      <th></th>\n",
       "      <th>ParcelId</th>\n",
       "      <th>201610</th>\n",
       "      <th>201611</th>\n",
       "      <th>201612</th>\n",
       "      <th>201710</th>\n",
       "      <th>201711</th>\n",
       "      <th>201712</th>\n",
       "    </tr>\n",
       "  </thead>\n",
       "  <tbody>\n",
       "    <tr>\n",
       "      <th>0</th>\n",
       "      <td>10754147</td>\n",
       "      <td>0.020425</td>\n",
       "      <td>0.021025</td>\n",
       "      <td>0.021425</td>\n",
       "      <td>0.024950</td>\n",
       "      <td>0.025600</td>\n",
       "      <td>0.025750</td>\n",
       "    </tr>\n",
       "    <tr>\n",
       "      <th>1</th>\n",
       "      <td>10759547</td>\n",
       "      <td>0.016875</td>\n",
       "      <td>0.017375</td>\n",
       "      <td>0.017825</td>\n",
       "      <td>0.020775</td>\n",
       "      <td>0.021200</td>\n",
       "      <td>0.021450</td>\n",
       "    </tr>\n",
       "    <tr>\n",
       "      <th>2</th>\n",
       "      <td>10843547</td>\n",
       "      <td>0.034175</td>\n",
       "      <td>0.034500</td>\n",
       "      <td>0.034925</td>\n",
       "      <td>0.043600</td>\n",
       "      <td>0.043825</td>\n",
       "      <td>0.044025</td>\n",
       "    </tr>\n",
       "    <tr>\n",
       "      <th>3</th>\n",
       "      <td>10859147</td>\n",
       "      <td>0.032525</td>\n",
       "      <td>0.032750</td>\n",
       "      <td>0.032850</td>\n",
       "      <td>0.034525</td>\n",
       "      <td>0.034750</td>\n",
       "      <td>0.034775</td>\n",
       "    </tr>\n",
       "    <tr>\n",
       "      <th>4</th>\n",
       "      <td>10879947</td>\n",
       "      <td>0.017925</td>\n",
       "      <td>0.018400</td>\n",
       "      <td>0.018850</td>\n",
       "      <td>0.020425</td>\n",
       "      <td>0.020575</td>\n",
       "      <td>0.020775</td>\n",
       "    </tr>\n",
       "  </tbody>\n",
       "</table>\n",
       "</div>"
      ],
      "text/plain": [
       "   ParcelId    201610    201611    201612    201710    201711    201712\n",
       "0  10754147  0.020425  0.021025  0.021425  0.024950  0.025600  0.025750\n",
       "1  10759547  0.016875  0.017375  0.017825  0.020775  0.021200  0.021450\n",
       "2  10843547  0.034175  0.034500  0.034925  0.043600  0.043825  0.044025\n",
       "3  10859147  0.032525  0.032750  0.032850  0.034525  0.034750  0.034775\n",
       "4  10879947  0.017925  0.018400  0.018850  0.020425  0.020575  0.020775"
      ]
     },
     "execution_count": 16,
     "metadata": {},
     "output_type": "execute_result"
    }
   ],
   "source": [
    "submission.head()"
   ]
  },
  {
   "cell_type": "code",
   "execution_count": 17,
   "metadata": {},
   "outputs": [],
   "source": [
    "submission = submission.round(4)\n",
    "submission.to_csv('./submissions/submission_20200425_0.csv', index=False)"
   ]
  }
 ],
 "metadata": {
  "kernelspec": {
   "display_name": "Python 3",
   "language": "python",
   "name": "python3"
  },
  "language_info": {
   "codemirror_mode": {
    "name": "ipython",
    "version": 3
   },
   "file_extension": ".py",
   "mimetype": "text/x-python",
   "name": "python",
   "nbconvert_exporter": "python",
   "pygments_lexer": "ipython3",
   "version": "3.7.1"
  }
 },
 "nbformat": 4,
 "nbformat_minor": 2
}
